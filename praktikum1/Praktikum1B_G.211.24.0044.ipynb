{
  "nbformat": 4,
  "nbformat_minor": 0,
  "metadata": {
    "colab": {
      "provenance": [],
      "authorship_tag": "ABX9TyP9zt1PTBaqUEqMjGVKAuyG",
      "include_colab_link": true
    },
    "kernelspec": {
      "name": "python3",
      "display_name": "Python 3"
    },
    "language_info": {
      "name": "python"
    }
  },
  "cells": [
    {
      "cell_type": "markdown",
      "metadata": {
        "id": "view-in-github",
        "colab_type": "text"
      },
      "source": [
        "<a href=\"https://colab.research.google.com/github/faradah33/Komputer_Grafis/blob/main/praktikum1/Praktikum1B.ipynb\" target=\"_parent\"><img src=\"https://colab.research.google.com/assets/colab-badge.svg\" alt=\"Open In Colab\"/></a>"
      ]
    },
    {
      "cell_type": "code",
      "execution_count": null,
      "metadata": {
        "id": "GbZObncZ6K9F"
      },
      "outputs": [],
      "source": [
        "import numpy as np\n",
        "import matplotlib.pyplot as plt\n",
        "\n",
        "plt.grid(True)\n",
        "plt.axis('on')\n",
        "\n",
        "plt.axis([-10,10,10,-10])\n",
        "plt.axes().set_aspect('equal')\n",
        "#--custom grid\n",
        "x1 = - 10\n",
        "x2 = 10\n",
        "y1 = 10\n",
        "y2 = - 10\n",
        "\n",
        "dx = 0.5\n",
        "dy = - 0.5\n",
        "for x in np.arange(x1,x2, dx):\n",
        "  for y in np.arange(y1,y2,dy):\n",
        "      plt.scatter(x,y, s = 1, color='lightgray')\n",
        "\n",
        "#--square box\n",
        "plt.plot([-5,5], [-5,-5],linewidth=2,color='k')\n",
        "plt.plot([5,5], [-5,5], linewidth=2, color='k')\n",
        "plt.plot([5,-5], [5,5], linewidth=2,color='k')\n",
        "plt.plot([-5,-5], [5,-5],linewidth = 2 ,color='k')\n",
        "plt.show()"
      ]
    },
    {
      "cell_type": "code",
      "source": [
        "import numpy as np\n",
        "import matplotlib.pyplot as plt\n",
        "\n",
        "plt.axis([0,150,100,0])\n",
        "r=40\n",
        "alpha1=np.radians(0)\n",
        "alpha2=np.radians (360)\n",
        "dalpha=np.radians(2)\n",
        "xc=75\n",
        "yc=50\n",
        "plt.scatter(xc, yc,s=10,color='k')\n",
        "for alpha in np.arange(alpha1, alpha2, dalpha):\n",
        "  x=xc+r*np.cos(alpha)\n",
        "  y=yc+r*np.sin(alpha)\n",
        "  plt.scatter(x,y,s=5,color='k')\n",
        "\n",
        "plt.show()"
      ],
      "metadata": {
        "id": "J-kskLmB6Znj"
      },
      "execution_count": null,
      "outputs": []
    },
    {
      "cell_type": "code",
      "source": [
        "import numpy as np\n",
        "import matplotlib.pyplot as plt\n",
        "\n",
        "plt.axis([-10,140,90,-10])\n",
        "\n",
        "plt.axis('on')\n",
        "plt.grid(True)\n",
        "\n",
        "plt.title('Sample Axes')\n",
        "\n",
        "# grid\n",
        "dx=5\n",
        "dy=-5\n",
        "for x in np.arange(x1,x2, dx):\n",
        "  for y in np.arange(y1,y2,dy):\n",
        "     plt.scatter(x,y,s=1, color='lightgray')\n",
        "\n",
        "# coordinate axes\n",
        "plt.arrow(0,0,20,0, head_length=4, head_width=3,color='k')\n",
        "plt.arrow(0,0,0,20, head_length=4, head_width=3,color='k')\n",
        "\n",
        "plt.show()"
      ],
      "metadata": {
        "id": "dzPw3b1k6cGl"
      },
      "execution_count": null,
      "outputs": []
    },
    {
      "cell_type": "code",
      "source": [
        "import numpy as np\n",
        "import matplotlib.pyplot as plt\n",
        "\n",
        "plt.axis([-10,140,90,-10])\n",
        "plt.plot([40,100], [20,20], linewidth=2,color='r')\n",
        "plt.plot([40,100], [30,30],linewidth=4,color='g', linestyle=':')\n",
        "plt.plot([40,100], [40,40], linewidth=6,color='b', linestyle='--')\n",
        "plt.plot([40,100], [50,50], linewidth=2,color='k', linestyle='-.')\n",
        "plt.show()"
      ],
      "metadata": {
        "id": "AeBa0vIM6kVS"
      },
      "execution_count": null,
      "outputs": []
    },
    {
      "cell_type": "code",
      "source": [
        "import numpy as np\n",
        "import matplotlib.pyplot as plt\n",
        "\n",
        "plt.axis([-10,140,90,-10])\n",
        "plt.arrow(40,20,60, 0, linewidth=1,color='r', head_length=5,\n",
        "head_width=3)\n",
        "plt.arrow (40,30,60, 0, linewidth=1,color='g', linestyle=':',\n",
        "head_length=10, head_width=5)\n",
        "plt.arrow(40,40,60,0,linewidth=1,color='b', linestyle='--',\n",
        "head_length=8, head_width=4)\n",
        "plt.arrow(40,50,60,0, linewidth=4,color='k', linestyle='-',\n",
        "head_length=8, head_width=3)\n",
        "plt.show()"
      ],
      "metadata": {
        "id": "osx5cPUd6p_s"
      },
      "execution_count": null,
      "outputs": []
    },
    {
      "cell_type": "code",
      "source": [
        "# Program TEXT_SAMPLES\n",
        "import numpy as np\n",
        "import matplotlib.pyplot as plt\n",
        "\n",
        "plt.axis([-10,140,90,-10])\n",
        "\n",
        "plt.axis(\"on\")\n",
        "plt.grid(False)\n",
        "\n",
        "plt.title('Text Samples')\n",
        "\n",
        "#text samples\n",
        "plt.text(20,10, 'small text',size='small')\n",
        "plt.text(20,15, 'normal text')\n",
        "plt.text(20,20, 'large text', size='large')\n",
        "\n",
        "plt.text(20,30, 'large bold text', size='large', fontweight='bold')\n",
        "plt.text(20,35, 'large bold,italic text', size='large', fontweight='bold',fontstyle='italic')\n",
        "plt.text(20,40, 'large, pure, bold Italic text', size='large', fontweight='bold',fontstyle='italic',color=(.5,0,.5))\n",
        "plt.text(20,45, 'large, light purple, bold italic text', size='large', fontweight='bold', fontstyle='italic',color=(.8,0,0))\n",
        "plt.text(20,50, 'light purple text',color=(.8,0,.8))\n",
        "\n",
        "plt.text(100,50, 'text at 45 degrees', rotation=45,color='k')\n",
        "plt.text(100,48, 'text at de degrees', rotation=60,color='g')\n",
        "\n",
        "plt.text(20,65,r'$P(\\lambda)=2 \\pi c^{2} h\\int_{\\lambda1}^{\\lambda2}\\frac{\\lambda^{-5}\\epsilon} {e^{\\frac{hc}{\\lambda k t}}-1}d\\lambda$',size='large')\n",
        "plt.show()"
      ],
      "metadata": {
        "id": "1iBdgXR86vh-"
      },
      "execution_count": null,
      "outputs": []
    }
  ]
}
